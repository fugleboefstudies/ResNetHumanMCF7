{
 "cells": [
  {
   "cell_type": "code",
   "execution_count": 1,
   "metadata": {},
   "outputs": [],
   "source": [
    "import pandas as pd\n",
    "import os\n",
    "import numpy as np"
   ]
  },
  {
   "cell_type": "code",
   "execution_count": 2,
   "metadata": {},
   "outputs": [],
   "source": [
    "image_dir = 'segmented_images_fromBBBC021_for_CP\\images\\segimg_BBBC021_singh_'\n"
   ]
  },
  {
   "cell_type": "code",
   "execution_count": 3,
   "metadata": {},
   "outputs": [],
   "source": [
    "df = pd.read_csv(\"BBBC021_v1_image_moa.csv\")"
   ]
  },
  {
   "cell_type": "code",
   "execution_count": 4,
   "metadata": {},
   "outputs": [],
   "source": [
    "df = df.dropna(subset=['moa'])\n",
    "df = df[~df.Image_PathName_DAPI.str.contains(\"Week4\")]\n"
   ]
  },
  {
   "cell_type": "code",
   "execution_count": 5,
   "metadata": {},
   "outputs": [
    {
     "data": {
      "text/plain": [
       "Microtubule stabilizers      1284\n",
       "DMSO                         1176\n",
       "Microtubule destabilizers     168\n",
       "Eg5 inhibitors                144\n",
       "Aurora kinase inhibitors      108\n",
       "DNA replication                96\n",
       "Epithelial                     88\n",
       "Protein degradation            84\n",
       "Cholesterol-lowering           72\n",
       "Actin disruptors               60\n",
       "DNA damage                     60\n",
       "Kinase inhibitors              40\n",
       "Protein synthesis              36\n",
       "Name: moa, dtype: int64"
      ]
     },
     "execution_count": 5,
     "metadata": {},
     "output_type": "execute_result"
    }
   ],
   "source": [
    "df.moa.value_counts()"
   ]
  },
  {
   "cell_type": "code",
   "execution_count": 5,
   "metadata": {},
   "outputs": [
    {
     "name": "stdout",
     "output_type": "stream",
     "text": [
      "<class 'pandas.core.frame.DataFrame'>\n",
      "Int64Index: 3416 entries, 9352 to 13199\n",
      "Data columns (total 15 columns):\n",
      " #   Column                     Non-Null Count  Dtype  \n",
      "---  ------                     --------------  -----  \n",
      " 0   Unnamed: 0                 3416 non-null   int64  \n",
      " 1   TableNumber                3416 non-null   int64  \n",
      " 2   ImageNumber                3416 non-null   int64  \n",
      " 3   Image_FileName_DAPI        3416 non-null   object \n",
      " 4   Image_PathName_DAPI        3416 non-null   object \n",
      " 5   Image_FileName_Tubulin     3416 non-null   object \n",
      " 6   Image_PathName_Tubulin     3416 non-null   object \n",
      " 7   Image_FileName_Actin       3416 non-null   object \n",
      " 8   Image_PathName_Actin       3416 non-null   object \n",
      " 9   Image_Metadata_Plate_DAPI  3416 non-null   object \n",
      " 10  Image_Metadata_Well_DAPI   3416 non-null   object \n",
      " 11  Replicate                  3416 non-null   int64  \n",
      " 12  compound                   3416 non-null   object \n",
      " 13  concentration              3416 non-null   float64\n",
      " 14  moa                        3416 non-null   object \n",
      "dtypes: float64(1), int64(4), object(10)\n",
      "memory usage: 427.0+ KB\n"
     ]
    }
   ],
   "source": [
    "df.info()"
   ]
  },
  {
   "cell_type": "code",
   "execution_count": 5,
   "metadata": {},
   "outputs": [],
   "source": [
    "for filename in df['Image_FileName_DAPI']: #Loops over all filenames\n",
    "    filename = filename[:-4] #Removes the .tif\n",
    "    filename += \".npy\" #Adds .npy\n",
    "    "
   ]
  },
  {
   "cell_type": "code",
   "execution_count": 10,
   "metadata": {},
   "outputs": [],
   "source": [
    "\n",
    "with open(\"path.txt\", \"a\") as f:\n",
    "    for index, sample in df.iterrows():\n",
    "        week, _ = sample['Image_PathName_DAPI'].split('/')\n",
    "        filename = sample['Image_FileName_DAPI']\n",
    "        filename = filename[:-4]\n",
    "        #filename += '.npy'\n",
    "        \n",
    "        \n",
    "        \n",
    "        folder = image_dir + week\n",
    "        path = os.path.join(folder, filename)\n",
    "        f.write(f\"{sample['moa']}, {path}\\n\")\n",
    "        \n",
    "\n",
    "\n"
   ]
  },
  {
   "cell_type": "code",
   "execution_count": null,
   "metadata": {},
   "outputs": [],
   "source": []
  }
 ],
 "metadata": {
  "kernelspec": {
   "display_name": "Python 3.8.12 ('mlgpu')",
   "language": "python",
   "name": "python3"
  },
  "language_info": {
   "codemirror_mode": {
    "name": "ipython",
    "version": 3
   },
   "file_extension": ".py",
   "mimetype": "text/x-python",
   "name": "python",
   "nbconvert_exporter": "python",
   "pygments_lexer": "ipython3",
   "version": "3.8.12"
  },
  "orig_nbformat": 4,
  "vscode": {
   "interpreter": {
    "hash": "4a630c9ca01470c5a1ece2edbc02ef0e6f1d3772bccb2b39f1446bf635119703"
   }
  }
 },
 "nbformat": 4,
 "nbformat_minor": 2
}
