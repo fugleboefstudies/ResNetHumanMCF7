{
 "cells": [
  {
   "cell_type": "code",
   "execution_count": 1,
   "metadata": {},
   "outputs": [
    {
     "data": {
      "text/plain": [
       "OneHotEncoder(sparse=False)"
      ]
     },
     "execution_count": 1,
     "metadata": {},
     "output_type": "execute_result"
    }
   ],
   "source": [
    "import sklearn.preprocessing\n",
    "import pandas as pd\n",
    "import numpy as np\n",
    "path = 'Data_paths.csv'\n",
    "df = pd.read_csv(path)\n",
    "df = df[df.moa != 'DMSO']\n",
    "\n",
    "#df = df.groupby('moa').sample(n=100, random_state=0).reset_index(drop=True)\n",
    "\n",
    "moa_one_hot_encoder = sklearn.preprocessing.OneHotEncoder(sparse=False)\n",
    "moa_one_hot_encoder.fit(df['moa'].to_numpy().reshape(-1, 1))\n"
   ]
  },
  {
   "cell_type": "code",
   "execution_count": 6,
   "metadata": {},
   "outputs": [
    {
     "name": "stdout",
     "output_type": "stream",
     "text": [
      "0 : Actin disruptors, \n",
      "1 : Aurora kinase inhibitors, \n",
      "2 : Cholesterol-lowering, \n",
      "3 : DNA damage, \n",
      "4 : DNA replication, \n",
      "5 : Eg5 inhibitors, \n",
      "6 : Epithelial, \n",
      "7 : Kinase inhibitors, \n",
      "8 : Microtubule destabilizers, \n",
      "9 : Microtubule stabilizers, \n",
      "10 : Protein degradation, \n",
      "11 : Protein synthesis, \n"
     ]
    }
   ],
   "source": [
    "for index, i in enumerate(df['moa'].unique().reshape(-1, 1)):\n",
    "    print(f\"{index} : {i[0]}, \")\n"
   ]
  },
  {
   "cell_type": "code",
   "execution_count": 11,
   "metadata": {},
   "outputs": [
    {
     "data": {
      "text/plain": [
       "array([[1., 0., 0., 0., 0., 0., 0., 0., 0., 0., 0., 0.],\n",
       "       [0., 1., 0., 0., 0., 0., 0., 0., 0., 0., 0., 0.],\n",
       "       [0., 0., 1., 0., 0., 0., 0., 0., 0., 0., 0., 0.],\n",
       "       [0., 0., 0., 1., 0., 0., 0., 0., 0., 0., 0., 0.],\n",
       "       [0., 0., 0., 0., 1., 0., 0., 0., 0., 0., 0., 0.],\n",
       "       [0., 0., 0., 0., 0., 1., 0., 0., 0., 0., 0., 0.],\n",
       "       [0., 0., 0., 0., 0., 0., 1., 0., 0., 0., 0., 0.],\n",
       "       [0., 0., 0., 0., 0., 0., 0., 1., 0., 0., 0., 0.],\n",
       "       [0., 0., 0., 0., 0., 0., 0., 0., 1., 0., 0., 0.],\n",
       "       [0., 0., 0., 0., 0., 0., 0., 0., 0., 1., 0., 0.],\n",
       "       [0., 0., 0., 0., 0., 0., 0., 0., 0., 0., 1., 0.],\n",
       "       [0., 0., 0., 0., 0., 0., 0., 0., 0., 0., 0., 1.]])"
      ]
     },
     "execution_count": 11,
     "metadata": {},
     "output_type": "execute_result"
    }
   ],
   "source": [
    "moa_one_hot_encoder.transform(df['moa'].unique().reshape(-1, 1))"
   ]
  },
  {
   "cell_type": "code",
   "execution_count": null,
   "metadata": {},
   "outputs": [],
   "source": []
  }
 ],
 "metadata": {
  "kernelspec": {
   "display_name": "Python 3.8.12 ('mlgpu')",
   "language": "python",
   "name": "python3"
  },
  "language_info": {
   "codemirror_mode": {
    "name": "ipython",
    "version": 3
   },
   "file_extension": ".py",
   "mimetype": "text/x-python",
   "name": "python",
   "nbconvert_exporter": "python",
   "pygments_lexer": "ipython3",
   "version": "3.8.12"
  },
  "orig_nbformat": 4,
  "vscode": {
   "interpreter": {
    "hash": "4a630c9ca01470c5a1ece2edbc02ef0e6f1d3772bccb2b39f1446bf635119703"
   }
  }
 },
 "nbformat": 4,
 "nbformat_minor": 2
}
