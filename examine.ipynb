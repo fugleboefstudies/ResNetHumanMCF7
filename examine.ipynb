{
 "cells": [
  {
   "cell_type": "code",
   "execution_count": 2,
   "metadata": {},
   "outputs": [],
   "source": [
    "import pandas as pd"
   ]
  },
  {
   "cell_type": "code",
   "execution_count": 3,
   "metadata": {},
   "outputs": [],
   "source": [
    "df_moa = pd.read_csv(\"BBBC021_v1_moa.csv\")"
   ]
  },
  {
   "cell_type": "code",
   "execution_count": 4,
   "metadata": {},
   "outputs": [],
   "source": [
    "df_raw = pd.read_csv(\"BBBC021_v1_image_moa.csv\")"
   ]
  },
  {
   "cell_type": "code",
   "execution_count": 5,
   "metadata": {},
   "outputs": [],
   "source": [
    "#df.head()"
   ]
  },
  {
   "cell_type": "code",
   "execution_count": 6,
   "metadata": {},
   "outputs": [],
   "source": [
    "#df.isnull().sum()"
   ]
  },
  {
   "cell_type": "code",
   "execution_count": 7,
   "metadata": {},
   "outputs": [],
   "source": [
    "#df.shape"
   ]
  },
  {
   "cell_type": "code",
   "execution_count": 8,
   "metadata": {},
   "outputs": [],
   "source": [
    "#df[\"moa\"].unique()\n",
    "#len(df2[\"moa\"].unique())"
   ]
  },
  {
   "cell_type": "code",
   "execution_count": 9,
   "metadata": {},
   "outputs": [
    {
     "name": "stdout",
     "output_type": "stream",
     "text": [
      "<class 'pandas.core.frame.DataFrame'>\n",
      "RangeIndex: 13200 entries, 0 to 13199\n",
      "Data columns (total 15 columns):\n",
      " #   Column                     Non-Null Count  Dtype  \n",
      "---  ------                     --------------  -----  \n",
      " 0   Unnamed: 0                 13200 non-null  int64  \n",
      " 1   TableNumber                13200 non-null  int64  \n",
      " 2   ImageNumber                13200 non-null  int64  \n",
      " 3   Image_FileName_DAPI        13200 non-null  object \n",
      " 4   Image_PathName_DAPI        13200 non-null  object \n",
      " 5   Image_FileName_Tubulin     13200 non-null  object \n",
      " 6   Image_PathName_Tubulin     13200 non-null  object \n",
      " 7   Image_FileName_Actin       13200 non-null  object \n",
      " 8   Image_PathName_Actin       13200 non-null  object \n",
      " 9   Image_Metadata_Plate_DAPI  13200 non-null  object \n",
      " 10  Image_Metadata_Well_DAPI   13200 non-null  object \n",
      " 11  Replicate                  13200 non-null  int64  \n",
      " 12  compound                   13200 non-null  object \n",
      " 13  concentration              13200 non-null  float64\n",
      " 14  moa                        3848 non-null   object \n",
      "dtypes: float64(1), int64(4), object(10)\n",
      "memory usage: 1.5+ MB\n"
     ]
    }
   ],
   "source": [
    "df_raw.info()"
   ]
  },
  {
   "cell_type": "code",
   "execution_count": 10,
   "metadata": {},
   "outputs": [
    {
     "data": {
      "text/html": [
       "<div>\n",
       "<style scoped>\n",
       "    .dataframe tbody tr th:only-of-type {\n",
       "        vertical-align: middle;\n",
       "    }\n",
       "\n",
       "    .dataframe tbody tr th {\n",
       "        vertical-align: top;\n",
       "    }\n",
       "\n",
       "    .dataframe thead th {\n",
       "        text-align: right;\n",
       "    }\n",
       "</style>\n",
       "<table border=\"1\" class=\"dataframe\">\n",
       "  <thead>\n",
       "    <tr style=\"text-align: right;\">\n",
       "      <th></th>\n",
       "      <th>Unnamed: 0</th>\n",
       "      <th>TableNumber</th>\n",
       "      <th>ImageNumber</th>\n",
       "      <th>Replicate</th>\n",
       "      <th>concentration</th>\n",
       "    </tr>\n",
       "  </thead>\n",
       "  <tbody>\n",
       "    <tr>\n",
       "      <th>count</th>\n",
       "      <td>13200.000000</td>\n",
       "      <td>13200.000000</td>\n",
       "      <td>13200.000000</td>\n",
       "      <td>13200.000000</td>\n",
       "      <td>13200.000000</td>\n",
       "    </tr>\n",
       "    <tr>\n",
       "      <th>mean</th>\n",
       "      <td>6599.500000</td>\n",
       "      <td>4.636364</td>\n",
       "      <td>1687.045455</td>\n",
       "      <td>1.981818</td>\n",
       "      <td>8.329681</td>\n",
       "    </tr>\n",
       "    <tr>\n",
       "      <th>std</th>\n",
       "      <td>3810.656111</td>\n",
       "      <td>2.746100</td>\n",
       "      <td>1420.389481</td>\n",
       "      <td>0.820029</td>\n",
       "      <td>56.573161</td>\n",
       "    </tr>\n",
       "    <tr>\n",
       "      <th>min</th>\n",
       "      <td>0.000000</td>\n",
       "      <td>0.000000</td>\n",
       "      <td>1.000000</td>\n",
       "      <td>1.000000</td>\n",
       "      <td>0.000000</td>\n",
       "    </tr>\n",
       "    <tr>\n",
       "      <th>25%</th>\n",
       "      <td>3299.750000</td>\n",
       "      <td>2.000000</td>\n",
       "      <td>340.750000</td>\n",
       "      <td>1.000000</td>\n",
       "      <td>0.015000</td>\n",
       "    </tr>\n",
       "    <tr>\n",
       "      <th>50%</th>\n",
       "      <td>6599.500000</td>\n",
       "      <td>5.000000</td>\n",
       "      <td>684.500000</td>\n",
       "      <td>2.000000</td>\n",
       "      <td>0.300000</td>\n",
       "    </tr>\n",
       "    <tr>\n",
       "      <th>75%</th>\n",
       "      <td>9899.250000</td>\n",
       "      <td>7.000000</td>\n",
       "      <td>3128.000000</td>\n",
       "      <td>3.000000</td>\n",
       "      <td>1.625000</td>\n",
       "    </tr>\n",
       "    <tr>\n",
       "      <th>max</th>\n",
       "      <td>13199.000000</td>\n",
       "      <td>9.000000</td>\n",
       "      <td>3840.000000</td>\n",
       "      <td>3.000000</td>\n",
       "      <td>1000.000000</td>\n",
       "    </tr>\n",
       "  </tbody>\n",
       "</table>\n",
       "</div>"
      ],
      "text/plain": [
       "         Unnamed: 0   TableNumber   ImageNumber     Replicate  concentration\n",
       "count  13200.000000  13200.000000  13200.000000  13200.000000   13200.000000\n",
       "mean    6599.500000      4.636364   1687.045455      1.981818       8.329681\n",
       "std     3810.656111      2.746100   1420.389481      0.820029      56.573161\n",
       "min        0.000000      0.000000      1.000000      1.000000       0.000000\n",
       "25%     3299.750000      2.000000    340.750000      1.000000       0.015000\n",
       "50%     6599.500000      5.000000    684.500000      2.000000       0.300000\n",
       "75%     9899.250000      7.000000   3128.000000      3.000000       1.625000\n",
       "max    13199.000000      9.000000   3840.000000      3.000000    1000.000000"
      ]
     },
     "execution_count": 10,
     "metadata": {},
     "output_type": "execute_result"
    }
   ],
   "source": [
    "df_raw.describe()"
   ]
  },
  {
   "cell_type": "code",
   "execution_count": 11,
   "metadata": {},
   "outputs": [],
   "source": [
    "df = df_raw.dropna(subset=['moa'])\n"
   ]
  },
  {
   "cell_type": "code",
   "execution_count": 12,
   "metadata": {},
   "outputs": [
    {
     "name": "stdout",
     "output_type": "stream",
     "text": [
      "<class 'pandas.core.frame.DataFrame'>\n",
      "Int64Index: 3848 entries, 9352 to 13199\n",
      "Data columns (total 15 columns):\n",
      " #   Column                     Non-Null Count  Dtype  \n",
      "---  ------                     --------------  -----  \n",
      " 0   Unnamed: 0                 3848 non-null   int64  \n",
      " 1   TableNumber                3848 non-null   int64  \n",
      " 2   ImageNumber                3848 non-null   int64  \n",
      " 3   Image_FileName_DAPI        3848 non-null   object \n",
      " 4   Image_PathName_DAPI        3848 non-null   object \n",
      " 5   Image_FileName_Tubulin     3848 non-null   object \n",
      " 6   Image_PathName_Tubulin     3848 non-null   object \n",
      " 7   Image_FileName_Actin       3848 non-null   object \n",
      " 8   Image_PathName_Actin       3848 non-null   object \n",
      " 9   Image_Metadata_Plate_DAPI  3848 non-null   object \n",
      " 10  Image_Metadata_Well_DAPI   3848 non-null   object \n",
      " 11  Replicate                  3848 non-null   int64  \n",
      " 12  compound                   3848 non-null   object \n",
      " 13  concentration              3848 non-null   float64\n",
      " 14  moa                        3848 non-null   object \n",
      "dtypes: float64(1), int64(4), object(10)\n",
      "memory usage: 481.0+ KB\n"
     ]
    }
   ],
   "source": [
    "df.info()"
   ]
  },
  {
   "cell_type": "code",
   "execution_count": 13,
   "metadata": {},
   "outputs": [
    {
     "data": {
      "text/plain": [
       "9352     Actin disruptors\n",
       "9353     Actin disruptors\n",
       "9354     Actin disruptors\n",
       "9355     Actin disruptors\n",
       "9356     Actin disruptors\n",
       "               ...       \n",
       "13195                DMSO\n",
       "13196                DMSO\n",
       "13197                DMSO\n",
       "13198                DMSO\n",
       "13199                DMSO\n",
       "Name: moa, Length: 3848, dtype: object"
      ]
     },
     "execution_count": 13,
     "metadata": {},
     "output_type": "execute_result"
    }
   ],
   "source": [
    "df[\"moa\"]"
   ]
  },
  {
   "cell_type": "code",
   "execution_count": 14,
   "metadata": {},
   "outputs": [],
   "source": [
    "from collections import Counter"
   ]
  },
  {
   "cell_type": "code",
   "execution_count": 15,
   "metadata": {},
   "outputs": [
    {
     "data": {
      "text/plain": [
       "Counter({'Actin disruptors': 60,\n",
       "         'Aurora kinase inhibitors': 144,\n",
       "         'Cholesterol-lowering': 72,\n",
       "         'DNA damage': 108,\n",
       "         'DNA replication': 96,\n",
       "         'Eg5 inhibitors': 144,\n",
       "         'Epithelial': 88,\n",
       "         'Kinase inhibitors': 40,\n",
       "         'Microtubule destabilizers': 168,\n",
       "         'Microtubule stabilizers': 1428,\n",
       "         'Protein degradation': 84,\n",
       "         'Protein synthesis': 96,\n",
       "         'DMSO': 1320})"
      ]
     },
     "execution_count": 15,
     "metadata": {},
     "output_type": "execute_result"
    }
   ],
   "source": [
    "Counter(df[\"moa\"])"
   ]
  },
  {
   "cell_type": "code",
   "execution_count": 16,
   "metadata": {},
   "outputs": [
    {
     "data": {
      "text/plain": [
       "array(['Epithelial ', 'Protein synthesis', 'Aurora kinase inhibitors',\n",
       "       'Actin disruptors', 'Protein degradation', 'DNA replication',\n",
       "       'Eg5 inhibitors', 'Microtubule stabilizers', 'DNA damage',\n",
       "       'Kinase inhibitors', 'Microtubule destabilizers',\n",
       "       'Cholesterol-lowering', 'Epithelial', 'DMSO'], dtype=object)"
      ]
     },
     "execution_count": 16,
     "metadata": {},
     "output_type": "execute_result"
    }
   ],
   "source": [
    "df_moa[\"moa\"].unique()"
   ]
  },
  {
   "cell_type": "code",
   "execution_count": 18,
   "metadata": {},
   "outputs": [
    {
     "data": {
      "text/plain": [
       "Index(['Unnamed: 0', 'TableNumber', 'ImageNumber', 'Image_FileName_DAPI',\n",
       "       'Image_PathName_DAPI', 'Image_FileName_Tubulin',\n",
       "       'Image_PathName_Tubulin', 'Image_FileName_Actin',\n",
       "       'Image_PathName_Actin', 'Image_Metadata_Plate_DAPI',\n",
       "       'Image_Metadata_Well_DAPI', 'Replicate', 'compound', 'concentration',\n",
       "       'moa'],\n",
       "      dtype='object')"
      ]
     },
     "execution_count": 18,
     "metadata": {},
     "output_type": "execute_result"
    }
   ],
   "source": [
    "df.columns"
   ]
  },
  {
   "cell_type": "code",
   "execution_count": 24,
   "metadata": {},
   "outputs": [
    {
     "data": {
      "text/plain": [
       "'Week1_150607_B04_s3_w135D66B4C-0548-4AB8-A57B-9CC39666813B.tif'"
      ]
     },
     "execution_count": 24,
     "metadata": {},
     "output_type": "execute_result"
    }
   ],
   "source": [
    "df[\"Image_FileName_DAPI\"].iloc[0]"
   ]
  },
  {
   "cell_type": "code",
   "execution_count": 25,
   "metadata": {},
   "outputs": [
    {
     "data": {
      "text/plain": [
       "'Week1_150607_B04_s3_w2D81AEFB9-9DD4-4B59-9177-2093F0815C94.tif'"
      ]
     },
     "execution_count": 25,
     "metadata": {},
     "output_type": "execute_result"
    }
   ],
   "source": [
    "df[\"Image_FileName_Tubulin\"].iloc[0]"
   ]
  },
  {
   "cell_type": "code",
   "execution_count": 26,
   "metadata": {},
   "outputs": [
    {
     "data": {
      "text/plain": [
       "'Week1_150607_B04_s3_w408BE006A-BF34-457E-81A9-FAB019FE8996.tif'"
      ]
     },
     "execution_count": 26,
     "metadata": {},
     "output_type": "execute_result"
    }
   ],
   "source": [
    "df[\"Image_FileName_Actin\"].iloc[0]"
   ]
  },
  {
   "cell_type": "code",
   "execution_count": 2,
   "metadata": {},
   "outputs": [],
   "source": [
    "import pandas as pd"
   ]
  },
  {
   "cell_type": "code",
   "execution_count": 4,
   "metadata": {},
   "outputs": [],
   "source": [
    "df = pd.read_csv('raw_data.csv')"
   ]
  },
  {
   "cell_type": "code",
   "execution_count": 5,
   "metadata": {},
   "outputs": [
    {
     "data": {
      "text/html": [
       "<div>\n",
       "<style scoped>\n",
       "    .dataframe tbody tr th:only-of-type {\n",
       "        vertical-align: middle;\n",
       "    }\n",
       "\n",
       "    .dataframe tbody tr th {\n",
       "        vertical-align: top;\n",
       "    }\n",
       "\n",
       "    .dataframe thead th {\n",
       "        text-align: right;\n",
       "    }\n",
       "</style>\n",
       "<table border=\"1\" class=\"dataframe\">\n",
       "  <thead>\n",
       "    <tr style=\"text-align: right;\">\n",
       "      <th></th>\n",
       "      <th>image</th>\n",
       "      <th>moa</th>\n",
       "    </tr>\n",
       "  </thead>\n",
       "  <tbody>\n",
       "    <tr>\n",
       "      <th>0</th>\n",
       "      <td>[[[10  1  1]\\n  [ 9  1  1]\\n  [10  2  1]\\n  .....</td>\n",
       "      <td>Actin disruptors</td>\n",
       "    </tr>\n",
       "    <tr>\n",
       "      <th>1</th>\n",
       "      <td>[[[11  3  2]\\n  [11  3  2]\\n  [10  3  2]\\n  .....</td>\n",
       "      <td>Actin disruptors</td>\n",
       "    </tr>\n",
       "    <tr>\n",
       "      <th>2</th>\n",
       "      <td>[[[11  2  2]\\n  [12  2  1]\\n  [11  2  1]\\n  .....</td>\n",
       "      <td>Actin disruptors</td>\n",
       "    </tr>\n",
       "    <tr>\n",
       "      <th>3</th>\n",
       "      <td>[[[10  2  2]\\n  [11  2  2]\\n  [11  2  2]\\n  .....</td>\n",
       "      <td>Actin disruptors</td>\n",
       "    </tr>\n",
       "    <tr>\n",
       "      <th>4</th>\n",
       "      <td>[[[11  2  2]\\n  [ 9  2  2]\\n  [ 8  2  1]\\n  .....</td>\n",
       "      <td>Actin disruptors</td>\n",
       "    </tr>\n",
       "  </tbody>\n",
       "</table>\n",
       "</div>"
      ],
      "text/plain": [
       "                                               image               moa\n",
       "0  [[[10  1  1]\\n  [ 9  1  1]\\n  [10  2  1]\\n  .....  Actin disruptors\n",
       "1  [[[11  3  2]\\n  [11  3  2]\\n  [10  3  2]\\n  .....  Actin disruptors\n",
       "2  [[[11  2  2]\\n  [12  2  1]\\n  [11  2  1]\\n  .....  Actin disruptors\n",
       "3  [[[10  2  2]\\n  [11  2  2]\\n  [11  2  2]\\n  .....  Actin disruptors\n",
       "4  [[[11  2  2]\\n  [ 9  2  2]\\n  [ 8  2  1]\\n  .....  Actin disruptors"
      ]
     },
     "execution_count": 5,
     "metadata": {},
     "output_type": "execute_result"
    }
   ],
   "source": [
    "df.head()"
   ]
  },
  {
   "cell_type": "code",
   "execution_count": null,
   "metadata": {},
   "outputs": [],
   "source": []
  }
 ],
 "metadata": {
  "interpreter": {
   "hash": "8a707e57680d6a6d9a2da98772436e43bb18ae5338312d0ad0de4688f53ed07f"
  },
  "kernelspec": {
   "display_name": "Python 3.8.12 ('mlgpu')",
   "language": "python",
   "name": "python3"
  },
  "language_info": {
   "codemirror_mode": {
    "name": "ipython",
    "version": 3
   },
   "file_extension": ".py",
   "mimetype": "text/x-python",
   "name": "python",
   "nbconvert_exporter": "python",
   "pygments_lexer": "ipython3",
   "version": "3.8.12"
  },
  "orig_nbformat": 4
 },
 "nbformat": 4,
 "nbformat_minor": 2
}
